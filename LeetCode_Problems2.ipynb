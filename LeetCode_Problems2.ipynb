{
 "cells": [
  {
   "cell_type": "markdown",
   "id": "4bafdef9-5330-4cd6-ba72-33596e83bfd3",
   "metadata": {},
   "source": [
    "Flowers in alternate positions"
   ]
  },
  {
   "cell_type": "code",
   "execution_count": 1,
   "id": "b5f8a5db-1970-4cd7-b02c-297c9ded75f0",
   "metadata": {},
   "outputs": [],
   "source": [
    "def canPlaceFlowers(self, flowerbed, n):\n",
    "    \"\"\"\n",
    "    :type flowerbed: List[int]\n",
    "    :type n: int\n",
    "    :rtype: bool\n",
    "    \"\"\"\n",
    "    pos = []\n",
    "    length=len(flowerbed)\n",
    "    if length>=2:\n",
    "        if flowerbed[0]==0 and flowerbed[1]==0:\n",
    "            pos.append(0)\n",
    "            flowerbed[0]=1\n",
    "    for i in range(1,length-2):\n",
    "        if flowerbed[i-1]==0 and flowerbed[i]==0 and flowerbed[i+1]==0:\n",
    "            pos.append(i)\n",
    "            flowerbed[i]=1\n",
    "    if flowerbed[length-2]==0 and flowerbed[length-1]==0:\n",
    "        pos.append(length-1)\n",
    "        flowerbed[length-1]=1\n",
    "    if n<=len(pos):\n",
    "        return True\n",
    "    else:\n",
    "        return False"
   ]
  },
  {
   "cell_type": "code",
   "execution_count": null,
   "id": "1ae6b627-4869-4e47-9825-c0617be25da2",
   "metadata": {},
   "outputs": [],
   "source": []
  }
 ],
 "metadata": {
  "kernelspec": {
   "display_name": "Python 3 (ipykernel)",
   "language": "python",
   "name": "python3"
  },
  "language_info": {
   "codemirror_mode": {
    "name": "ipython",
    "version": 3
   },
   "file_extension": ".py",
   "mimetype": "text/x-python",
   "name": "python",
   "nbconvert_exporter": "python",
   "pygments_lexer": "ipython3",
   "version": "3.10.11"
  }
 },
 "nbformat": 4,
 "nbformat_minor": 5
}
