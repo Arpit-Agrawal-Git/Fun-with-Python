{
 "cells": [
  {
   "cell_type": "markdown",
   "metadata": {},
   "source": [
    "Reverse Vowels of a String"
   ]
  },
  {
   "cell_type": "code",
   "execution_count": 15,
   "metadata": {},
   "outputs": [],
   "source": [
    "s=\"Euston saw I was not Sue.\""
   ]
  },
  {
   "cell_type": "code",
   "execution_count": 19,
   "metadata": {},
   "outputs": [
    {
     "name": "stdout",
     "output_type": "stream",
     "text": [
      "{0: 'E', 1: 'u', 2: 's', 3: 't', 4: 'o', 5: 'n', 6: ' ', 7: 's', 8: 'a', 9: 'w', 10: ' ', 11: 'I', 12: ' ', 13: 'w', 14: 'a', 15: 's', 16: ' ', 17: 'n', 18: 'o', 19: 't', 20: ' ', 21: 'S', 22: 'u', 23: 'e', 24: '.'}\n",
      "b: | 0 | E\n",
      "b: | 1 | u\n",
      "e: | 23 | e\n",
      "e: | 22 | u\n",
      "b: | 4 | o\n",
      "e: | 18 | o\n",
      "b: | 8 | a\n",
      "e: | 14 | a\n",
      "b: | 11 | I\n",
      "Eestun sow a wIs nat Sou.\n"
     ]
    }
   ],
   "source": [
    "r={}\n",
    "l=len(s)-1\n",
    "b=\"\"\n",
    "e=\"\"\n",
    "for i in range(len(s)):\n",
    "  r[i]=s[i]\n",
    "print(r)\n",
    "for i in range(int(len(s)/2)):\n",
    "  if s[i] in ('a','e','i','o','u','A','E','I','O','U'):\n",
    "      b=i\n",
    "      print(\"b:\",b,s[b],sep=' | ')\n",
    "  if s[l-i] in ('a','e','i','o','u','A','E','I','O','U'):\n",
    "      e=l-i\n",
    "      print(\"e:\",e,s[e],sep=' | ')\n",
    "  if b!=\"\" and e!=\"\":\n",
    "      r[b]=s[e]\n",
    "      r[e]=s[b]\n",
    "      b=''\n",
    "      e=''\n",
    "print(\"\".join(r.values()))"
   ]
  },
  {
   "cell_type": "code",
   "execution_count": 20,
   "metadata": {},
   "outputs": [
    {
     "name": "stdout",
     "output_type": "stream",
     "text": [
      "{0: 'E', 1: 'u', 2: 's', 3: 't', 4: 'o', 5: 'n', 6: ' ', 7: 's', 8: 'a', 9: 'w', 10: ' ', 11: 'I', 12: ' ', 13: 'w', 14: 'a', 15: 's', 16: ' ', 17: 'n', 18: 'o', 19: 't', 20: ' ', 21: 'S', 22: 'u', 23: 'e', 24: '.'}\n",
      "b: | 0 | E\n",
      "e: | 23 | e\n",
      "e: | 22 | u\n",
      "b: | 4 | o\n",
      "e: | 18 | o\n",
      "b: | 8 | a\n",
      "e: | 14 | a\n",
      "b: | 11 | I\n",
      "eustun sow a wIs nat SoE.\n"
     ]
    }
   ],
   "source": [
    "r={}\n",
    "l=len(s)-1\n",
    "b=\"\"\n",
    "e=\"\"\n",
    "for i in range(len(s)):\n",
    "  r[i]=s[i]\n",
    "print(r)\n",
    "for i in range(int(len(s)/2)):\n",
    "  if s[i] in ('a','e','i','o','u','A','E','I','O','U') and b=='':\n",
    "      b=i\n",
    "      print(\"b:\",b,s[b],sep=' | ')\n",
    "  if s[l-i] in ('a','e','i','o','u','A','E','I','O','U') and e=='':\n",
    "      e=l-i\n",
    "      print(\"e:\",e,s[e],sep=' | ')\n",
    "  if b!=\"\" and e!=\"\":\n",
    "      r[b]=s[e]\n",
    "      r[e]=s[b]\n",
    "      b=''\n",
    "      e=''\n",
    "print(\"\".join(r.values()))"
   ]
  },
  {
   "cell_type": "markdown",
   "metadata": {},
   "source": [
    "Two pointer Technique"
   ]
  },
  {
   "cell_type": "code",
   "execution_count": null,
   "metadata": {},
   "outputs": [],
   "source": [
    "class Solution:\n",
    "    def reverseVowels(self, s):\n",
    "        \"\"\"\n",
    "        :type s: str\n",
    "        :rtype: str\n",
    "        \"\"\"\n",
    "        vowels = set('aeiouAEIOU')\n",
    "        s = list(s)\n",
    "        left, right = 0, len(s) - 1\n",
    "        \n",
    "        while left < right:\n",
    "            if s[left] not in vowels:\n",
    "                left += 1\n",
    "            elif s[right] not in vowels:\n",
    "                right -= 1\n",
    "            else:\n",
    "                s[left], s[right] = s[right], s[left]\n",
    "                left += 1\n",
    "                right -= 1\n",
    "        \n",
    "        return ''.join(s)\n",
    "\n",
    "# Example usage\n",
    "solution = Solution()\n",
    "input_str = \"Euston saw I was not Sue.\"\n",
    "output_str = solution.reverseVowels(input_str)\n",
    "print(output_str)  # Output should be \"euston saw I was not SuE.\"\n"
   ]
  },
  {
   "cell_type": "markdown",
   "metadata": {},
   "source": [
    "#############################################"
   ]
  },
  {
   "cell_type": "markdown",
   "metadata": {},
   "source": [
    "Reverse Words in a String"
   ]
  },
  {
   "cell_type": "code",
   "execution_count": 16,
   "metadata": {},
   "outputs": [],
   "source": [
    "s = \"  the   sky is blue\""
   ]
  },
  {
   "cell_type": "code",
   "execution_count": 23,
   "metadata": {},
   "outputs": [
    {
     "name": "stdout",
     "output_type": "stream",
     "text": [
      "3\n",
      "3\n",
      "2\n",
      "1\n",
      "0\n"
     ]
    },
    {
     "data": {
      "text/plain": [
       "'blue is sky the'"
      ]
     },
     "execution_count": 23,
     "metadata": {},
     "output_type": "execute_result"
    }
   ],
   "source": [
    "r=s.split()\n",
    "l=len(r)-1\n",
    "print(l)\n",
    "result=[]\n",
    "for i in range(l,-1,-1):\n",
    "  print(i)\n",
    "  result.append(r[i])\n",
    "\" \".join(result)\n"
   ]
  },
  {
   "cell_type": "code",
   "execution_count": null,
   "metadata": {},
   "outputs": [],
   "source": [
    "def reverseWords(self, s):\n",
    "    \"\"\"\n",
    "    :type s: str\n",
    "    :rtype: str\n",
    "    \"\"\"\n",
    "    r=s.split()\n",
    "\n",
    "    result=r[::-1]\n",
    "\n",
    "    return ' '.join(result)"
   ]
  },
  {
   "cell_type": "markdown",
   "metadata": {},
   "source": [
    "#######################################################"
   ]
  },
  {
   "cell_type": "markdown",
   "metadata": {},
   "source": [
    "Product of Array Except Self"
   ]
  },
  {
   "cell_type": "code",
   "execution_count": 32,
   "metadata": {},
   "outputs": [],
   "source": [
    "nums = [1,2,3,4]"
   ]
  },
  {
   "cell_type": "code",
   "execution_count": 33,
   "metadata": {},
   "outputs": [],
   "source": [
    "dic = {i:nums[i] for i in range(len(nums))}\n",
    "out=[]\n",
    "for k in dic.keys():\n",
    "    p=1\n",
    "    for i,v in dic.items():\n",
    "        if i!=k :\n",
    "            p=p*v\n",
    "    out.append(p)\n"
   ]
  },
  {
   "cell_type": "code",
   "execution_count": 34,
   "metadata": {},
   "outputs": [
    {
     "data": {
      "text/plain": [
       "[24, 12, 8, 6]"
      ]
     },
     "execution_count": 34,
     "metadata": {},
     "output_type": "execute_result"
    }
   ],
   "source": [
    "out"
   ]
  },
  {
   "cell_type": "markdown",
   "metadata": {},
   "source": [
    "### Efficiency\n",
    "While this code correctly computes the desired result, it has a time complexity of \n",
    "𝑂\n",
    "(\n",
    "𝑛\n",
    "2\n",
    ")\n",
    "O(n \n",
    "2\n",
    " ) because for each element, it iterates through the entire list again to calculate the product. This is less efficient compared to the \n",
    "𝑂\n",
    "(\n",
    "𝑛\n",
    ")\n",
    "O(n) solution provided earlier using the left and right arrays.\n",
    "\n",
    "For large arrays, the double nested loops will significantly slow down the computation. Therefore, it's generally better to use the more efficient approach when dealing with larger datasets."
   ]
  },
  {
   "cell_type": "code",
   "execution_count": 36,
   "metadata": {},
   "outputs": [],
   "source": [
    "n = len(nums)\n",
    "if n == 0:\n",
    "  answer=[]\n",
    "\n",
    "left = [0] * n\n",
    "right = [0] * n\n",
    "answer = [0] * n\n",
    "\n",
    "# Initialize the first element of left array\n",
    "left[0] = 1\n",
    "for i in range(1, n):\n",
    "  left[i] = left[i - 1] * nums[i - 1]\n",
    "\n",
    "# Initialize the last element of right array\n",
    "right[n - 1] = 1\n",
    "for i in range(n - 2, -1, -1):\n",
    "  right[i] = right[i + 1] * nums[i + 1]\n",
    "\n",
    "# Calculate the product except self\n",
    "for i in range(n):\n",
    "  answer[i] = left[i] * right[i]\n"
   ]
  },
  {
   "cell_type": "code",
   "execution_count": 37,
   "metadata": {},
   "outputs": [
    {
     "data": {
      "text/plain": [
       "[24, 12, 8, 6]"
      ]
     },
     "execution_count": 37,
     "metadata": {},
     "output_type": "execute_result"
    }
   ],
   "source": [
    "answer"
   ]
  },
  {
   "cell_type": "code",
   "execution_count": null,
   "metadata": {},
   "outputs": [],
   "source": []
  },
  {
   "cell_type": "code",
   "execution_count": null,
   "metadata": {},
   "outputs": [],
   "source": []
  }
 ],
 "metadata": {
  "kernelspec": {
   "display_name": "Python 3",
   "language": "python",
   "name": "python3"
  },
  "language_info": {
   "codemirror_mode": {
    "name": "ipython",
    "version": 3
   },
   "file_extension": ".py",
   "mimetype": "text/x-python",
   "name": "python",
   "nbconvert_exporter": "python",
   "pygments_lexer": "ipython3",
   "version": "3.10.11"
  }
 },
 "nbformat": 4,
 "nbformat_minor": 2
}
