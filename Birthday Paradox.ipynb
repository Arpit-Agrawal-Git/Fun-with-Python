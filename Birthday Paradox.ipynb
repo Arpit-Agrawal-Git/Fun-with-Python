{
 "cells": [
  {
   "cell_type": "markdown",
   "id": "82645937-9980-4701-90f7-a733e028e33b",
   "metadata": {},
   "source": [
    "# Simulation of the Birthday Paradox"
   ]
  },
  {
   "cell_type": "code",
   "execution_count": 63,
   "id": "efc9a3b7-ee9c-4fc7-abc6-5d5b77333a2f",
   "metadata": {},
   "outputs": [
    {
     "name": "stdout",
     "output_type": "stream",
     "text": [
      "[4, 4, 15, 23, 32, 42, 47, 51, 66, 71, 104, 129, 139, 141, 150, 154, 157, 159, 161, 163, 172, 174, 176, 180, 187, 188, 188, 205, 207, 211, 234, 245, 249, 249, 256, 257, 263, 263, 270, 278, 281, 291, 292, 293, 301, 319, 342, 346, 353, 354]\n",
      "4 repeats at position 1\n",
      "188 repeats at position 26\n",
      "249 repeats at position 33\n",
      "263 repeats at position 37\n"
     ]
    }
   ],
   "source": [
    "import random\n",
    "\n",
    "# Generate random birthdays\n",
    "birthdays = [random.randint(1, 365) for _ in range(50)]\n",
    "birthdays.sort()\n",
    "print(birthdays)\n",
    "\n",
    "# Check for duplicate birthdays\n",
    "duplicate_found = False\n",
    "for i in range(len(birthdays) - 1):\n",
    "    if birthdays[i] == birthdays[i + 1]:\n",
    "        print(f\"{birthdays[i]} repeats at position {i + 1}\")\n",
    "        duplicate_found = True\n",
    "\n",
    "if not duplicate_found:\n",
    "    print(\"No duplicates found\")\n"
   ]
  },
  {
   "cell_type": "markdown",
   "id": "84d3fc71-91e4-434d-a8ad-106b0e6efaa5",
   "metadata": {},
   "source": [
    "## The birthday paradox reveals that in a group of just 23 people, there's about a 50% chance that two individuals share the same birthday. This counterintuitive probability result stems from the combinations of possible pairings in such a group, significantly increasing the chances of a shared birthday."
   ]
  },
  {
   "cell_type": "code",
   "execution_count": null,
   "id": "4a7aca0b-5f48-4a7e-8e57-a50bcbb42b48",
   "metadata": {},
   "outputs": [],
   "source": []
  },
  {
   "cell_type": "code",
   "execution_count": null,
   "id": "201cfc3e-0d24-433d-b845-a44486fad94f",
   "metadata": {},
   "outputs": [],
   "source": []
  }
 ],
 "metadata": {
  "kernelspec": {
   "display_name": "Python 3 (ipykernel)",
   "language": "python",
   "name": "python3"
  },
  "language_info": {
   "codemirror_mode": {
    "name": "ipython",
    "version": 3
   },
   "file_extension": ".py",
   "mimetype": "text/x-python",
   "name": "python",
   "nbconvert_exporter": "python",
   "pygments_lexer": "ipython3",
   "version": "3.10.11"
  }
 },
 "nbformat": 4,
 "nbformat_minor": 5
}
