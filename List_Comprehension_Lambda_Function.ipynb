{
 "cells": [
  {
   "cell_type": "markdown",
   "metadata": {},
   "source": [
    "**List comprehensions are a concise and readable way to create lists in Python. They allow for more expressive and efficient code, especially when processing collections. Below are 20 scripts that demonstrate the usefulness of list comprehensions, each with detailed comments to explain their purpose and functionality.**"
   ]
  },
  {
   "cell_type": "markdown",
   "metadata": {},
   "source": [
    "### Script 1: Extracting Even Numbers from a List"
   ]
  },
  {
   "cell_type": "code",
   "execution_count": 1,
   "metadata": {},
   "outputs": [
    {
     "name": "stdout",
     "output_type": "stream",
     "text": [
      "[2, 4, 6, 8, 10]\n"
     ]
    }
   ],
   "source": [
    "\n",
    "# Initialize a list of numbers\n",
    "numbers = [1, 2, 3, 4, 5, 6, 7, 8, 9, 10]\n",
    "\n",
    "# Use list comprehension to filter even numbers\n",
    "even_numbers = [num for num in numbers if num % 2 == 0]\n",
    "\n",
    "print(even_numbers)"
   ]
  },
  {
   "cell_type": "markdown",
   "metadata": {},
   "source": [
    "### Script 2: Squaring Each Number in a List"
   ]
  },
  {
   "cell_type": "code",
   "execution_count": 2,
   "metadata": {},
   "outputs": [
    {
     "name": "stdout",
     "output_type": "stream",
     "text": [
      "[1, 4, 9, 16, 25]\n"
     ]
    }
   ],
   "source": [
    "# List of numbers\n",
    "numbers = [1, 2, 3, 4, 5]\n",
    "\n",
    "# Square each number using list comprehension\n",
    "squared_numbers = [num ** 2 for num in numbers]\n",
    "\n",
    "print(squared_numbers)"
   ]
  },
  {
   "cell_type": "markdown",
   "metadata": {},
   "source": [
    "### Script 3: Convert All Strings in a List to Uppercase"
   ]
  },
  {
   "cell_type": "code",
   "execution_count": 3,
   "metadata": {},
   "outputs": [
    {
     "name": "stdout",
     "output_type": "stream",
     "text": [
      "['HELLO', 'WORLD', 'PYTHON', 'LIST']\n"
     ]
    }
   ],
   "source": [
    "# List of words\n",
    "words = [\"hello\", \"world\", \"python\", \"list\"]\n",
    "\n",
    "# Convert each word to uppercase\n",
    "uppercase_words = [word.upper() for word in words]\n",
    "\n",
    "print(uppercase_words) "
   ]
  },
  {
   "cell_type": "markdown",
   "metadata": {},
   "source": [
    "### Script 4: Filtering Out Non-Numeric Items from a List"
   ]
  },
  {
   "cell_type": "code",
   "execution_count": 5,
   "metadata": {},
   "outputs": [
    {
     "name": "stdout",
     "output_type": "stream",
     "text": [
      "[1, 2, 3]\n"
     ]
    }
   ],
   "source": [
    "# Mixed list with numbers and strings\n",
    "mixed_list = [\"apple\", 1, \"banana\", 2, 3, \"cherry\"]\n",
    "\n",
    "# Filter only numeric items\n",
    "numbers = [item for item in mixed_list if isinstance(item, int)]\n",
    "\n",
    "print(numbers)"
   ]
  },
  {
   "cell_type": "markdown",
   "metadata": {},
   "source": [
    "### Script 5: Create a List of Tuples (Index, Element)"
   ]
  },
  {
   "cell_type": "code",
   "execution_count": 6,
   "metadata": {},
   "outputs": [
    {
     "name": "stdout",
     "output_type": "stream",
     "text": [
      "[(0, 'red'), (1, 'green'), (2, 'blue')]\n"
     ]
    }
   ],
   "source": [
    "# List of colors\n",
    "colors = [\"red\", \"green\", \"blue\"]\n",
    "\n",
    "# Create a list of tuples (index, element)\n",
    "indexed_colors = [(index, color) for index, color in enumerate(colors)]\n",
    "\n",
    "print(indexed_colors)"
   ]
  },
  {
   "cell_type": "markdown",
   "metadata": {},
   "source": [
    "### Script 6: Flatten a Matrix"
   ]
  },
  {
   "cell_type": "code",
   "execution_count": 7,
   "metadata": {},
   "outputs": [
    {
     "name": "stdout",
     "output_type": "stream",
     "text": [
      "[1, 2, 3, 4, 5, 6, 7, 8, 9]\n"
     ]
    }
   ],
   "source": [
    "# Matrix of numbers\n",
    "matrix = [[1, 2, 3], [4, 5, 6], [7, 8, 9]]\n",
    "\n",
    "# Flatten the matrix into a single list\n",
    "flat_list = [num for row in matrix for num in row]\n",
    "\n",
    "print(flat_list)"
   ]
  },
  {
   "cell_type": "markdown",
   "metadata": {},
   "source": [
    "### Script 7: Removing Vowels from a String"
   ]
  },
  {
   "cell_type": "code",
   "execution_count": 8,
   "metadata": {},
   "outputs": [
    {
     "name": "stdout",
     "output_type": "stream",
     "text": [
      "Hll Wrld\n"
     ]
    }
   ],
   "source": [
    "# Input string\n",
    "text = \"Hello World\"\n",
    "\n",
    "# Remove vowels from the string\n",
    "no_vowels = ''.join([char for char in text if char.lower() not in 'aeiou'])\n",
    "\n",
    "print(no_vowels)"
   ]
  },
  {
   "cell_type": "markdown",
   "metadata": {},
   "source": [
    "### Script 8: Generate List of Dictionary Values"
   ]
  },
  {
   "cell_type": "code",
   "execution_count": 9,
   "metadata": {},
   "outputs": [
    {
     "name": "stdout",
     "output_type": "stream",
     "text": [
      "[30, 25, 35]\n"
     ]
    }
   ],
   "source": [
    "# Dictionary of employee ages\n",
    "employees = {'Alice': 30, 'Bob': 25, 'Charlie': 35}\n",
    "\n",
    "# Generate a list of ages\n",
    "ages = [age for age in employees.values()]\n",
    "\n",
    "print(ages) "
   ]
  },
  {
   "cell_type": "markdown",
   "metadata": {},
   "source": [
    "### Script 9: Create a List of Odd Squares"
   ]
  },
  {
   "cell_type": "code",
   "execution_count": 10,
   "metadata": {},
   "outputs": [
    {
     "name": "stdout",
     "output_type": "stream",
     "text": [
      "[1, 9, 25, 49, 81]\n"
     ]
    }
   ],
   "source": [
    "# Generate squares of odd numbers between 1 and 10\n",
    "odd_squares = [x ** 2 for x in range(1, 11) if x % 2 != 0]\n",
    "\n",
    "print(odd_squares)"
   ]
  },
  {
   "cell_type": "markdown",
   "metadata": {},
   "source": [
    "### Script 10: Extract Names Starting with a Specific Letter"
   ]
  },
  {
   "cell_type": "code",
   "execution_count": 11,
   "metadata": {},
   "outputs": [
    {
     "name": "stdout",
     "output_type": "stream",
     "text": [
      "['Charlie']\n"
     ]
    }
   ],
   "source": [
    "# List of names\n",
    "names = [\"Alice\", \"Bob\", \"Charlie\", \"David\"]\n",
    "\n",
    "# Extract names that start with 'C'\n",
    "c_names = [name for name in names if name.startswith('C')]\n",
    "\n",
    "print(c_names)"
   ]
  },
  {
   "cell_type": "markdown",
   "metadata": {},
   "source": [
    "These scripts show the versatility of list comprehensions for various tasks including filtering, transformation, and flatting lists. They are particularly useful for their ability to make the code cleaner and more Pythonic."
   ]
  },
  {
   "cell_type": "markdown",
   "metadata": {},
   "source": [
    "### Script 11: Cross Product of Two Sets"
   ]
  },
  {
   "cell_type": "code",
   "execution_count": 1,
   "metadata": {},
   "outputs": [
    {
     "name": "stdout",
     "output_type": "stream",
     "text": [
      "[('red', 'S'), ('red', 'M'), ('red', 'L'), ('blue', 'S'), ('blue', 'M'), ('blue', 'L'), ('green', 'S'), ('green', 'M'), ('green', 'L')]\n"
     ]
    }
   ],
   "source": [
    "# Lists of colors and sizes\n",
    "colors = ['red', 'blue', 'green']\n",
    "sizes = ['S', 'M', 'L']\n",
    "\n",
    "# Generate a cross product of colors and sizes\n",
    "product = [(color, size) for color in colors for size in sizes]\n",
    "\n",
    "print(product)  \n"
   ]
  },
  {
   "cell_type": "markdown",
   "metadata": {},
   "source": [
    "### Script 12: Parsing a File Into a List of Dictionaries"
   ]
  },
  {
   "cell_type": "code",
   "execution_count": 2,
   "metadata": {},
   "outputs": [
    {
     "name": "stdout",
     "output_type": "stream",
     "text": [
      "[{'Alice': '30', 'Bob': '25', 'Charlie': '35'}]\n"
     ]
    }
   ],
   "source": [
    "# Simulate reading from a file with multiple lines of 'name,age'\n",
    "file_lines = [\"Alice,30\", \"Bob,25\", \"Charlie,35\"]\n",
    "\n",
    "# Use list comprehension to parse into a list of dictionaries\n",
    "people = [{key: value for key, value in (line.split(',') for line in file_lines)}]\n",
    "\n",
    "print(people)  \n"
   ]
  },
  {
   "cell_type": "markdown",
   "metadata": {},
   "source": [
    "### Script 13: Conditional Nested List Comprehension"
   ]
  },
  {
   "cell_type": "code",
   "execution_count": 3,
   "metadata": {},
   "outputs": [
    {
     "name": "stdout",
     "output_type": "stream",
     "text": [
      "[[1, 2, 9], [4, 25, 6], [49, 8, 81]]\n"
     ]
    }
   ],
   "source": [
    "# Matrix with some values to be selectively squared\n",
    "matrix = [[1, 2, 3], [4, 5, 6], [7, 8, 9]]\n",
    "\n",
    "# Square numbers only if they are odd, otherwise leave them as is\n",
    "modified_matrix = [[x**2 if x % 2 != 0 else x for x in row] for row in matrix]\n",
    "\n",
    "print(modified_matrix)\n"
   ]
  },
  {
   "cell_type": "markdown",
   "metadata": {},
   "source": [
    "### Script 14: Extracting Tags from a List of HTML Elements"
   ]
  },
  {
   "cell_type": "code",
   "execution_count": 4,
   "metadata": {},
   "outputs": [
    {
     "name": "stdout",
     "output_type": "stream",
     "text": [
      "['a', 'p>', 'div>', '/div>']\n"
     ]
    }
   ],
   "source": [
    "# List of HTML strings\n",
    "html_tags = [\"<a href='example.com'>\", \"<p>\", \"<div>\", \"</div>\"]\n",
    "\n",
    "# Extract tag names from the list\n",
    "tags = [tag.split()[0][1:] for tag in html_tags]\n",
    "\n",
    "print(tags)\n"
   ]
  },
  {
   "cell_type": "markdown",
   "metadata": {},
   "source": [
    "### Script 15: Zipping and Pairing Elements with Conditions"
   ]
  },
  {
   "cell_type": "code",
   "execution_count": null,
   "metadata": {},
   "outputs": [],
   "source": [
    "# Two lists of numbers\n",
    "list1 = [1, 2, 3, 4]\n",
    "list2 = [10, 20, 30, 40]\n",
    "\n",
    "# Pair elements where elements from list1 are less than 4\n",
    "filtered_pairs = [(x, y) for x, y in zip(list1, list2) if x < 4]\n",
    "\n",
    "print(filtered_pairs)\n"
   ]
  },
  {
   "cell_type": "markdown",
   "metadata": {},
   "source": [
    "### Script 16: Nested Comprehension with Multiple Conditions"
   ]
  },
  {
   "cell_type": "code",
   "execution_count": 5,
   "metadata": {},
   "outputs": [
    {
     "name": "stdout",
     "output_type": "stream",
     "text": [
      "[(1, 1), (1, 4), (1, 9), (1, 16), (1, 25)]\n"
     ]
    }
   ],
   "source": [
    "# List of numbers\n",
    "nums = range(1, 101)\n",
    "\n",
    "# Find all pairs (a, b) where a*b is a perfect square\n",
    "perfect_squares = [(a, b) for a in nums for b in nums if (a * b)**0.5 % 1 == 0]\n",
    "\n",
    "print(perfect_squares[:5])\n"
   ]
  },
  {
   "cell_type": "markdown",
   "metadata": {},
   "source": [
    "### Script 17: Inverting a Dictionary"
   ]
  },
  {
   "cell_type": "code",
   "execution_count": 6,
   "metadata": {},
   "outputs": [
    {
     "name": "stdout",
     "output_type": "stream",
     "text": [
      "{'fruit': ['apple', 'banana'], 'vegetable': ['carrot']}\n"
     ]
    }
   ],
   "source": [
    "# Dictionary of items and their categories\n",
    "category_dict = {'apple': 'fruit', 'carrot': 'vegetable', 'banana': 'fruit'}\n",
    "\n",
    "# Invert the dictionary to group by category\n",
    "inverted_dict = {value: [key for key in category_dict if category_dict[key] == value] for value in set(category_dict.values())}\n",
    "\n",
    "print(inverted_dict) \n"
   ]
  },
  {
   "cell_type": "markdown",
   "metadata": {},
   "source": [
    "### Script 18: Complex Filtering in File Parsing"
   ]
  },
  {
   "cell_type": "code",
   "execution_count": 7,
   "metadata": {},
   "outputs": [
    {
     "name": "stdout",
     "output_type": "stream",
     "text": [
      "['file not found', 'disk full']\n"
     ]
    }
   ],
   "source": [
    "# Simulated list of lines from a log file\n",
    "log_lines = [\"error: file not found\", \"warning: bad connection\", \"error: disk full\"]\n",
    "\n",
    "# Extract messages for lines that start with 'error'\n",
    "errors = [line.split(': ')[1] for line in log_lines if line.startswith('error')]\n",
    "\n",
    "print(errors)\n"
   ]
  },
  {
   "cell_type": "markdown",
   "metadata": {},
   "source": [
    "### Script 19: Transformations Based on Substring Presence"
   ]
  },
  {
   "cell_type": "code",
   "execution_count": 8,
   "metadata": {},
   "outputs": [
    {
     "name": "stdout",
     "output_type": "stream",
     "text": [
      "['report.pdf', 'image.png', 'index.html file']\n"
     ]
    }
   ],
   "source": [
    "# List of filenames\n",
    "files = [\"report.pdf\", \"image.png\", \"index.html\"]\n",
    "\n",
    "# Append 'file' to filenames if they end with '.html'\n",
    "modified_files = [f + ' file' if f.endswith('.html') else f for f in files]\n",
    "\n",
    "print(modified_files)\n"
   ]
  },
  {
   "cell_type": "markdown",
   "metadata": {},
   "source": [
    "### Script 20: Multi-Dimensional Data Comprehension"
   ]
  },
  {
   "cell_type": "code",
   "execution_count": 9,
   "metadata": {},
   "outputs": [
    {
     "name": "stdout",
     "output_type": "stream",
     "text": [
      "[1, 2, 3, 4, 5, 6, 7, 8]\n"
     ]
    }
   ],
   "source": [
    "# 3D list (tensor) simulation\n",
    "tensor = [[[1, 2], [3, 4]], [[5, 6], [7, 8]]]\n",
    "\n",
    "# Flatten this 3D list into a 1D list\n",
    "flattened = [item for sublist in tensor for subsublist in sublist for item in subsublist]\n",
    "\n",
    "print(flattened)\n"
   ]
  },
  {
   "cell_type": "markdown",
   "metadata": {},
   "source": [
    "These scripts showcase more intricate uses of list comprehensions, demonstrating their flexibility and power in handling various data processing tasks in Python."
   ]
  },
  {
   "cell_type": "markdown",
   "metadata": {},
   "source": [
    "-------------------------------------------------------------------------------------------------------------"
   ]
  },
  {
   "cell_type": "markdown",
   "metadata": {},
   "source": [
    "## Lambda Functions"
   ]
  },
  {
   "cell_type": "markdown",
   "metadata": {},
   "source": [
    "### Script 1: Sorting a List of Tuples"
   ]
  },
  {
   "cell_type": "code",
   "execution_count": 10,
   "metadata": {},
   "outputs": [
    {
     "name": "stdout",
     "output_type": "stream",
     "text": [
      "[(4, 'four'), (1, 'one'), (3, 'three'), (2, 'two')]\n"
     ]
    }
   ],
   "source": [
    "# List of tuples\n",
    "pairs = [(1, 'one'), (3, 'three'), (2, 'two'), (4, 'four')]\n",
    "\n",
    "# Sort the list by the second element of each tuple\n",
    "sorted_pairs = sorted(pairs, key=lambda x: x[1])\n",
    "\n",
    "print(sorted_pairs)\n"
   ]
  },
  {
   "cell_type": "markdown",
   "metadata": {},
   "source": [
    "### Script 2: Applying a Function to All Items in a List"
   ]
  },
  {
   "cell_type": "code",
   "execution_count": 11,
   "metadata": {},
   "outputs": [
    {
     "name": "stdout",
     "output_type": "stream",
     "text": [
      "[2, 3, 4, 5, 6]\n"
     ]
    }
   ],
   "source": [
    "# List of numbers\n",
    "numbers = [1, 2, 3, 4, 5]\n",
    "\n",
    "# Increment each number using a lambda function\n",
    "incremented_numbers = list(map(lambda x: x + 1, numbers))\n",
    "\n",
    "print(incremented_numbers)\n"
   ]
  },
  {
   "cell_type": "markdown",
   "metadata": {},
   "source": [
    "### Script 3: Filtering a List"
   ]
  },
  {
   "cell_type": "code",
   "execution_count": 12,
   "metadata": {},
   "outputs": [
    {
     "name": "stdout",
     "output_type": "stream",
     "text": [
      "[2, 4, 6]\n"
     ]
    }
   ],
   "source": [
    "# List of numbers\n",
    "numbers = [1, 2, 3, 4, 5, 6]\n",
    "\n",
    "# Filter to get only even numbers using a lambda\n",
    "even_numbers = list(filter(lambda x: x % 2 == 0, numbers))\n",
    "\n",
    "print(even_numbers)\n"
   ]
  },
  {
   "cell_type": "markdown",
   "metadata": {},
   "source": [
    "### Script 4: Calculating Product of a List Elements"
   ]
  },
  {
   "cell_type": "code",
   "execution_count": 13,
   "metadata": {},
   "outputs": [
    {
     "name": "stdout",
     "output_type": "stream",
     "text": [
      "120\n"
     ]
    }
   ],
   "source": [
    "# Import functools for reduce\n",
    "from functools import reduce\n",
    "\n",
    "# List of numbers\n",
    "numbers = [1, 2, 3, 4, 5]\n",
    "\n",
    "# Calculate the product of all numbers\n",
    "product = reduce(lambda x, y: x * y, numbers)\n",
    "\n",
    "print(product)\n"
   ]
  },
  {
   "cell_type": "markdown",
   "metadata": {},
   "source": [
    "### Script 5: Quick Function for Power Calculation"
   ]
  },
  {
   "cell_type": "code",
   "execution_count": 14,
   "metadata": {},
   "outputs": [
    {
     "name": "stdout",
     "output_type": "stream",
     "text": [
      "8\n"
     ]
    }
   ],
   "source": [
    "# Create a lambda to calculate powers\n",
    "power = lambda base, exp: base ** exp\n",
    "\n",
    "# Calculate 2^3\n",
    "result = power(2, 3)\n",
    "\n",
    "print(result)\n"
   ]
  },
  {
   "cell_type": "markdown",
   "metadata": {},
   "source": [
    "### Script 6: Create a Dictionary from Two Lists"
   ]
  },
  {
   "cell_type": "code",
   "execution_count": 15,
   "metadata": {},
   "outputs": [
    {
     "name": "stdout",
     "output_type": "stream",
     "text": [
      "{'a': 1, 'b': 4, 'c': 9}\n"
     ]
    }
   ],
   "source": [
    "# Lists of keys and values\n",
    "keys = ['a', 'b', 'c']\n",
    "values = [1, 2, 3]\n",
    "\n",
    "# Create a dictionary from keys and values\n",
    "dictionary = dict(zip(keys, map(lambda x: x**2, values)))\n",
    "\n",
    "print(dictionary)\n"
   ]
  },
  {
   "cell_type": "markdown",
   "metadata": {},
   "source": [
    "### Script 7: Sorting Strings by Custom Condition"
   ]
  },
  {
   "cell_type": "code",
   "execution_count": 16,
   "metadata": {},
   "outputs": [
    {
     "name": "stdout",
     "output_type": "stream",
     "text": [
      "['banana', 'apple', 'cherry']\n"
     ]
    }
   ],
   "source": [
    "# List of strings\n",
    "words = [\"banana\", \"apple\", \"cherry\"]\n",
    "\n",
    "# Sort strings by the last letter\n",
    "sorted_words = sorted(words, key=lambda word: word[-1])\n",
    "\n",
    "print(sorted_words)\n"
   ]
  },
  {
   "cell_type": "markdown",
   "metadata": {},
   "source": [
    "### Script 8: Formatting Dates in a List"
   ]
  },
  {
   "cell_type": "code",
   "execution_count": 17,
   "metadata": {},
   "outputs": [
    {
     "name": "stdout",
     "output_type": "stream",
     "text": [
      "['2023/01/01', '2023/12/25', '2023/07/04']\n"
     ]
    }
   ],
   "source": [
    "# List of dates as strings\n",
    "dates = ['2023-01-01', '2023-12-25', '2023-07-04']\n",
    "\n",
    "# Format dates to another string format\n",
    "formatted_dates = list(map(lambda date: date.replace('-', '/'), dates))\n",
    "\n",
    "print(formatted_dates)\n"
   ]
  },
  {
   "cell_type": "markdown",
   "metadata": {},
   "source": [
    "### Script 9: Compute Inverse Values"
   ]
  },
  {
   "cell_type": "code",
   "execution_count": 18,
   "metadata": {},
   "outputs": [
    {
     "name": "stdout",
     "output_type": "stream",
     "text": [
      "[1.0, 0.5, 2.0, 4.0]\n"
     ]
    }
   ],
   "source": [
    "# List of non-zero numbers\n",
    "numbers = [1, 2, 0.5, 0.25]\n",
    "\n",
    "# Compute inverse of each number\n",
    "inverses = list(map(lambda x: 1/x, filter(lambda x: x != 0, numbers)))\n",
    "\n",
    "print(inverses)\n"
   ]
  },
  {
   "cell_type": "markdown",
   "metadata": {},
   "source": [
    "### Script 10: Conditionally Modify List Elements"
   ]
  },
  {
   "cell_type": "code",
   "execution_count": 19,
   "metadata": {},
   "outputs": [
    {
     "name": "stdout",
     "output_type": "stream",
     "text": [
      "[11, 20, 16, 25]\n"
     ]
    }
   ],
   "source": [
    "# List of ages\n",
    "ages = [10, 20, 15, 25]\n",
    "\n",
    "# Increment age by 1 only if it is less than 18\n",
    "modified_ages = list(map(lambda age: age + 1 if age < 18 else age, ages))\n",
    "\n",
    "print(modified_ages) \n"
   ]
  },
  {
   "cell_type": "code",
   "execution_count": null,
   "metadata": {},
   "outputs": [],
   "source": []
  },
  {
   "cell_type": "code",
   "execution_count": null,
   "metadata": {},
   "outputs": [],
   "source": []
  },
  {
   "cell_type": "code",
   "execution_count": null,
   "metadata": {},
   "outputs": [],
   "source": []
  },
  {
   "cell_type": "code",
   "execution_count": null,
   "metadata": {},
   "outputs": [],
   "source": []
  },
  {
   "cell_type": "markdown",
   "metadata": {},
   "source": []
  },
  {
   "cell_type": "code",
   "execution_count": null,
   "metadata": {},
   "outputs": [],
   "source": []
  }
 ],
 "metadata": {
  "kernelspec": {
   "display_name": "Python 3",
   "language": "python",
   "name": "python3"
  },
  "language_info": {
   "codemirror_mode": {
    "name": "ipython",
    "version": 3
   },
   "file_extension": ".py",
   "mimetype": "text/x-python",
   "name": "python",
   "nbconvert_exporter": "python",
   "pygments_lexer": "ipython3",
   "version": "3.10.11"
  }
 },
 "nbformat": 4,
 "nbformat_minor": 2
}
