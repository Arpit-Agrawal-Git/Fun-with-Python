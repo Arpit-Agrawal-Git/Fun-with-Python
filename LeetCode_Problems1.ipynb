{
 "cells": [
  {
   "cell_type": "markdown",
   "id": "4d8a8f27-2258-46b5-8c3e-dc87b5234ad5",
   "metadata": {},
   "source": [
    "Check for Prime Twins"
   ]
  },
  {
   "cell_type": "code",
   "execution_count": 8,
   "id": "a96e8500-ac75-4047-a76e-da98438c009c",
   "metadata": {},
   "outputs": [],
   "source": [
    "def is_prime(x):\n",
    "    if x<=1:\n",
    "        return False\n",
    "    if x<=3:\n",
    "        return True\n",
    "    if x%2==0 or x%3==0:\n",
    "        return False\n",
    "    i=5 \n",
    "    while i*i<=x:\n",
    "        if x%i==0 or x%(i+2)==0:\n",
    "            return False\n",
    "        i+=6\n",
    "    return True"
   ]
  },
  {
   "cell_type": "code",
   "execution_count": 9,
   "id": "d17a128d-6ed0-4568-9762-a5431d94ab60",
   "metadata": {},
   "outputs": [],
   "source": [
    "def twin_primes(p,q):\n",
    "    if is_prime(p) and is_prime(q):\n",
    "        if abs(p-q)==2:\n",
    "            return True\n",
    "    return False"
   ]
  },
  {
   "cell_type": "code",
   "execution_count": 10,
   "id": "a59e6c34-1052-4c0d-ac50-5c1d9803023c",
   "metadata": {},
   "outputs": [
    {
     "data": {
      "text/plain": [
       "False"
      ]
     },
     "execution_count": 10,
     "metadata": {},
     "output_type": "execute_result"
    }
   ],
   "source": [
    "twin_primes(17,29)"
   ]
  },
  {
   "cell_type": "markdown",
   "id": "c7373a30-7133-4605-a134-48b03bd6216a",
   "metadata": {},
   "source": [
    "####################################################################"
   ]
  },
  {
   "cell_type": "markdown",
   "id": "8fa2426c-9be9-48dc-9f31-6bb0ff529412",
   "metadata": {},
   "source": [
    "Merge Strings Alternately"
   ]
  },
  {
   "cell_type": "code",
   "execution_count": null,
   "id": "4a55bd3f-9336-4ff3-8a35-17edf60c7ca0",
   "metadata": {},
   "outputs": [],
   "source": [
    "def mergeAlternately(self, word1, word2):\n",
    "    \"\"\"\n",
    "    :type word1: str\n",
    "    :type word2: str\n",
    "    :rtype: str\n",
    "    \"\"\"\n",
    "    result=[]\n",
    "    if len(word1)>len(word2):\n",
    "        for i in range(len(word2)):\n",
    "            result.append(word1[i])\n",
    "            result.append(word2[i])\n",
    "        result.append(word1[len(word2):len(word1)])\n",
    "    elif len(word1)<len(word2):\n",
    "        for i in range(len(word1)):\n",
    "            result.append(word1[i])\n",
    "            result.append(word2[i])\n",
    "        result.append(word2[len(word1):len(word2)])\n",
    "    else:\n",
    "        for i in range(len(word1)):\n",
    "            result.append(word1[i])\n",
    "            result.append(word2[i])\n",
    "    return (\"\").join(result)"
   ]
  },
  {
   "cell_type": "code",
   "execution_count": null,
   "id": "4ffe8503-3d43-4970-bb8a-4cce5664fcc9",
   "metadata": {},
   "outputs": [],
   "source": [
    "def mergeAlternately(self, word1, word2):\n",
    "    \"\"\"\n",
    "    :type word1: str\n",
    "    :type word2: str\n",
    "    :rtype: str\n",
    "    \"\"\"\n",
    "    result = []\n",
    "    i = 0\n",
    "    while i < len(word1) or i < len(word2):\n",
    "        if i < len(word1):\n",
    "            result.append(word1[i])\n",
    "        if i < len(word2):\n",
    "            result.append(word2[i])\n",
    "        i += 1\n",
    "    return ''.join(result)"
   ]
  },
  {
   "cell_type": "code",
   "execution_count": null,
   "id": "72bb929f-a539-4eaf-a9be-90bcaf939770",
   "metadata": {},
   "outputs": [],
   "source": [
    "def mergeAlternately(self, word1, word2):\n",
    "    s = \"\"\n",
    "    n = min(len(word1),len(word2))\n",
    "    for i in range(n):\n",
    "        s = s + word1[i] + word2[i]\n",
    "    if len(word1) > len(word2):\n",
    "        s = s + word1[n:]\n",
    "    else:\n",
    "        s = s + word2[n:]\n",
    "    return s "
   ]
  },
  {
   "cell_type": "markdown",
   "id": "71397583-b185-4bb2-a0f8-4d8769c6ff7c",
   "metadata": {},
   "source": [
    "############################################################"
   ]
  },
  {
   "cell_type": "markdown",
   "id": "58325c45-497d-411a-b67b-f27bf802cfd7",
   "metadata": {},
   "source": [
    "GCD of strings"
   ]
  },
  {
   "cell_type": "code",
   "execution_count": null,
   "id": "027f5710-e3ec-4007-b94d-06d7d5e60d88",
   "metadata": {},
   "outputs": [],
   "source": [
    "def gcdOfStrings(self, str1, str2):\n",
    "    \"\"\"\n",
    "    :type str1: str\n",
    "    :type str2: str\n",
    "    :rtype: str\n",
    "    \"\"\"\n",
    "    def is_divisible(s, t):\n",
    "        if len(s) % len(t) != 0:\n",
    "            return False\n",
    "        return s == t * (len(s) // len(t))\n",
    "    \n",
    "    min_length = min(len(str1), len(str2))\n",
    "    \n",
    "    for length in range(min_length, 0, -1):\n",
    "        if len(str1) % length == 0 and len(str2) % length == 0:\n",
    "            candidate = str1[:length]\n",
    "            if is_divisible(str1, candidate) and is_divisible(str2, candidate):\n",
    "                return candidate\n",
    "    return \"\"\n",
    "    "
   ]
  },
  {
   "cell_type": "markdown",
   "id": "b0e7b494-570d-49f7-b04f-251d78d3f781",
   "metadata": {},
   "source": [
    "############################################################"
   ]
  },
  {
   "cell_type": "code",
   "execution_count": null,
   "id": "02026292-9992-4d99-a96d-1ffa6bbd4f47",
   "metadata": {},
   "outputs": [],
   "source": []
  },
  {
   "cell_type": "code",
   "execution_count": null,
   "id": "8b6e47ba-2b78-4f07-917b-65567d03b662",
   "metadata": {},
   "outputs": [],
   "source": []
  },
  {
   "cell_type": "code",
   "execution_count": null,
   "id": "9aff71ec-2b4f-47a7-a38e-5f2547a139bf",
   "metadata": {},
   "outputs": [],
   "source": []
  },
  {
   "cell_type": "code",
   "execution_count": null,
   "id": "ed95b888-b396-4292-853e-967479520526",
   "metadata": {},
   "outputs": [],
   "source": []
  }
 ],
 "metadata": {
  "kernelspec": {
   "display_name": "Python 3 (ipykernel)",
   "language": "python",
   "name": "python3"
  },
  "language_info": {
   "codemirror_mode": {
    "name": "ipython",
    "version": 3
   },
   "file_extension": ".py",
   "mimetype": "text/x-python",
   "name": "python",
   "nbconvert_exporter": "python",
   "pygments_lexer": "ipython3",
   "version": "3.10.11"
  }
 },
 "nbformat": 4,
 "nbformat_minor": 5
}
