{
 "cells": [
  {
   "cell_type": "code",
   "execution_count": 1,
   "id": "620cf071-b5b9-48f0-9226-8ba6de8cbfb4",
   "metadata": {},
   "outputs": [],
   "source": [
    "ip = [['A','D','G'],['B','E'],['C','F']]"
   ]
  },
  {
   "cell_type": "code",
   "execution_count": 2,
   "id": "cdf563c1-82ac-4758-bb7b-92fc95573657",
   "metadata": {},
   "outputs": [
    {
     "name": "stdout",
     "output_type": "stream",
     "text": [
      "['A', 'D', 'G']\n",
      "['B', 'E']\n",
      "['C', 'F']\n"
     ]
    }
   ],
   "source": [
    "for i in ip:\n",
    "    print(i)"
   ]
  },
  {
   "cell_type": "code",
   "execution_count": 3,
   "id": "f94dc264-5f71-43f9-b415-25c0f80790a3",
   "metadata": {},
   "outputs": [],
   "source": [
    "x, y, z = ip"
   ]
  },
  {
   "cell_type": "code",
   "execution_count": 4,
   "id": "d33e4ccc-b379-4e58-aa07-abd158a6e7e4",
   "metadata": {},
   "outputs": [],
   "source": [
    "out = x+y+z"
   ]
  },
  {
   "cell_type": "code",
   "execution_count": 5,
   "id": "e32fedd1-91ab-434c-bf8a-086a266afaed",
   "metadata": {},
   "outputs": [
    {
     "data": {
      "text/plain": [
       "['A', 'D', 'G', 'B', 'E', 'C', 'F']"
      ]
     },
     "execution_count": 5,
     "metadata": {},
     "output_type": "execute_result"
    }
   ],
   "source": [
    "out"
   ]
  },
  {
   "cell_type": "code",
   "execution_count": 7,
   "id": "71ae050b-a680-432b-9a7f-d9b41928418b",
   "metadata": {},
   "outputs": [],
   "source": [
    "n=len(out)\n",
    "for i in range(n):\n",
    "    for j in range(n-i-1):\n",
    "        if out[j]>out[j+1]:\n",
    "            out[j],out[j+1]=out[j+1],out[j]\n",
    "    "
   ]
  },
  {
   "cell_type": "code",
   "execution_count": 8,
   "id": "fdd5ba4e-fe01-4a72-aa3b-dec3a00f9c26",
   "metadata": {},
   "outputs": [
    {
     "data": {
      "text/plain": [
       "['A', 'B', 'C', 'D', 'E', 'F', 'G']"
      ]
     },
     "execution_count": 8,
     "metadata": {},
     "output_type": "execute_result"
    }
   ],
   "source": [
    "out"
   ]
  },
  {
   "cell_type": "code",
   "execution_count": 11,
   "id": "534b9cdc-eb86-40eb-8b22-56f0fe4297f1",
   "metadata": {},
   "outputs": [],
   "source": [
    "inter = [x for y in ip for x in y]"
   ]
  },
  {
   "cell_type": "code",
   "execution_count": 12,
   "id": "80ab2231-4804-443f-93ea-c8a6a45fe67b",
   "metadata": {},
   "outputs": [
    {
     "data": {
      "text/plain": [
       "['A', 'D', 'G', 'B', 'E', 'C', 'F']"
      ]
     },
     "execution_count": 12,
     "metadata": {},
     "output_type": "execute_result"
    }
   ],
   "source": [
    "inter"
   ]
  },
  {
   "cell_type": "code",
   "execution_count": null,
   "id": "255ee717-1ba0-4018-a966-3fa98610b802",
   "metadata": {},
   "outputs": [],
   "source": []
  }
 ],
 "metadata": {
  "kernelspec": {
   "display_name": "Python 3 (ipykernel)",
   "language": "python",
   "name": "python3"
  },
  "language_info": {
   "codemirror_mode": {
    "name": "ipython",
    "version": 3
   },
   "file_extension": ".py",
   "mimetype": "text/x-python",
   "name": "python",
   "nbconvert_exporter": "python",
   "pygments_lexer": "ipython3",
   "version": "3.10.11"
  }
 },
 "nbformat": 4,
 "nbformat_minor": 5
}
