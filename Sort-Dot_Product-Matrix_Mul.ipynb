{
 "cells": [
  {
   "cell_type": "markdown",
   "id": "2422135c-bee7-4282-9cb2-e59664cd8605",
   "metadata": {},
   "source": [
    "### Obvious Sort"
   ]
  },
  {
   "cell_type": "code",
   "execution_count": 9,
   "id": "683af197-68f9-487d-a88f-f14120e80d99",
   "metadata": {},
   "outputs": [
    {
     "name": "stdout",
     "output_type": "stream",
     "text": [
      "[7, 8, 10, 10, 12, 18, 35, 42]\n"
     ]
    }
   ],
   "source": [
    "l = [10, 12, 7, 10, 8, 42, 35, 18]\n",
    "x = []\n",
    "\n",
    "while len(l) > 0:\n",
    "    min_val = l[0]  # Assume the first element is the minimum\n",
    "    for i in range(1, len(l)):  # Start from the second element\n",
    "        if l[i] < min_val:\n",
    "            min_val = l[i]  # Update min_val if a smaller element is found\n",
    "    x.append(min_val)  # Append the smallest element found to x\n",
    "    l.remove(min_val)  # Remove the smallest element from l\n",
    "\n",
    "print(x)\n"
   ]
  },
  {
   "cell_type": "markdown",
   "id": "43f673d7-1df0-47e3-ad77-a2bcd7376ba0",
   "metadata": {},
   "source": [
    "### Dot Product"
   ]
  },
  {
   "cell_type": "code",
   "execution_count": 13,
   "id": "9c2fa9fc-feda-4db9-8e79-0bc9ff1a5116",
   "metadata": {},
   "outputs": [
    {
     "name": "stdout",
     "output_type": "stream",
     "text": [
      "67\n"
     ]
    }
   ],
   "source": [
    "import random\n",
    "\n",
    "x = [1,7,3,4]\n",
    "y = [8,6,3,2]\n",
    "\n",
    "sum = 0 \n",
    "\n",
    "for i in range(len(x)):\n",
    "    sum = sum+x[i]*y[i]\n",
    "\n",
    "print(sum)"
   ]
  },
  {
   "cell_type": "code",
   "execution_count": 16,
   "id": "a4f92ec6-1226-40ca-868b-48f186331a0c",
   "metadata": {},
   "outputs": [
    {
     "name": "stdout",
     "output_type": "stream",
     "text": [
      "[[1, 2, 3], [4, 5, 6], [7, 8, 9]]\n",
      "[[1, 2, 1], [6, 2, 3], [4, 2, 1]]\n",
      "[[2, 4, 4], [10, 7, 9], [11, 10, 10]]\n"
     ]
    }
   ],
   "source": [
    "# Matrix addition by first principles\n",
    "\n",
    "dim=3 \n",
    "\n",
    "r1=[1,2,3]\n",
    "r2=[4,5,6]\n",
    "r3=[7,8,9]\n",
    "\n",
    "s1=[1,2,1]\n",
    "s2=[6,2,3]\n",
    "s3=[4,2,1]\n",
    "\n",
    "A=[]\n",
    "A.append(r1)\n",
    "A.append(r2)\n",
    "A.append(r3)\n",
    "\n",
    "B=[]\n",
    "B.append(s1)\n",
    "B.append(s2)\n",
    "B.append(s3)\n",
    "\n",
    "print(A)\n",
    "print(B)\n",
    "\n",
    "C=[[0,0,0],[0,0,0],[0,0,0]]\n",
    "\n",
    "for i in range(dim):\n",
    "    for j in range(dim):\n",
    "        C[i][j]=A[i][j]+B[i][j]\n",
    "\n",
    "print(C)\n",
    "\n"
   ]
  },
  {
   "cell_type": "code",
   "execution_count": 17,
   "id": "1266f1a6-783b-4c07-a291-19554e1d7d90",
   "metadata": {},
   "outputs": [
    {
     "name": "stdout",
     "output_type": "stream",
     "text": [
      "[[1, 2, 3], [4, 5, 6], [7, 8, 9]]\n",
      "[[1, 2, 1], [6, 2, 3], [4, 2, 1]]\n",
      "[[2, 4, 4], [10, 7, 9], [11, 10, 10]]\n"
     ]
    }
   ],
   "source": [
    "dim=3 \n",
    "\n",
    "r1=[1,2,3]\n",
    "r2=[4,5,6]\n",
    "r3=[7,8,9]\n",
    "\n",
    "s1=[1,2,1]\n",
    "s2=[6,2,3]\n",
    "s3=[4,2,1]\n",
    "\n",
    "A=[]\n",
    "A.append(r1)\n",
    "A.append(r2)\n",
    "A.append(r3)\n",
    "\n",
    "B=[]\n",
    "B.append(s1)\n",
    "B.append(s2)\n",
    "B.append(s3)\n",
    "\n",
    "print(A)\n",
    "print(B)\n",
    "\n",
    "#C=[[0,0,0],[0,0,0],[0,0,0]]\n",
    "\n",
    "\n",
    "\n",
    "for i in range(dim):\n",
    "    for j in range(dim):\n",
    "        C[i][j]=0\n",
    "\n",
    "for i in range(dim):\n",
    "    for j in range(dim):\n",
    "        C[i][j]=A[i][j]+B[i][j]\n",
    "\n",
    "print(C)\n"
   ]
  },
  {
   "cell_type": "code",
   "execution_count": 20,
   "id": "4d26098d-f856-4f7e-b00e-ab14d2152e3c",
   "metadata": {},
   "outputs": [
    {
     "name": "stdout",
     "output_type": "stream",
     "text": [
      "[[25, 12, 10], [58, 30, 25], [91, 48, 40]]\n"
     ]
    }
   ],
   "source": [
    "### Matrix Multiplication\n",
    "\n",
    "#C[i][j] is the dot product of the ith row of A and the jth column of B\n",
    "D=[[0,0,0],[0,0,0],[0,0,0]]\n",
    "\n",
    "for i in range(dim):\n",
    "    for j in range(dim):\n",
    "        for k in range(dim):\n",
    "            D[i][j]+=A[i][k]*B[k][j]\n",
    "\n",
    "\n",
    "\n",
    "print(D)\n"
   ]
  },
  {
   "cell_type": "code",
   "execution_count": 21,
   "id": "3310e2a4-5c20-4971-a14e-83e3c794e510",
   "metadata": {},
   "outputs": [
    {
     "name": "stdout",
     "output_type": "stream",
     "text": [
      "[[25 12 10]\n",
      " [58 30 25]\n",
      " [91 48 40]]\n"
     ]
    }
   ],
   "source": [
    "# Now the Big Gun - Numpy\n",
    "\n",
    "import numpy as np\n",
    "\n",
    "X = np.mat(A)\n",
    "Y = np.mat(B)\n",
    "print(X*Y)"
   ]
  },
  {
   "cell_type": "code",
   "execution_count": null,
   "id": "f5ff0f3c-cd2f-403e-9abc-518f895c8d76",
   "metadata": {},
   "outputs": [],
   "source": []
  }
 ],
 "metadata": {
  "kernelspec": {
   "display_name": "Python 3 (ipykernel)",
   "language": "python",
   "name": "python3"
  },
  "language_info": {
   "codemirror_mode": {
    "name": "ipython",
    "version": 3
   },
   "file_extension": ".py",
   "mimetype": "text/x-python",
   "name": "python",
   "nbconvert_exporter": "python",
   "pygments_lexer": "ipython3",
   "version": "3.10.11"
  }
 },
 "nbformat": 4,
 "nbformat_minor": 5
}
